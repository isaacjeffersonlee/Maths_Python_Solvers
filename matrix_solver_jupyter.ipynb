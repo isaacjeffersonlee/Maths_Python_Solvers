{
 "cells": [
  {
   "cell_type": "markdown",
   "metadata": {},
   "source": [
    "# Matrix Solver Jupyter Version\n",
    "Author: Isaac Lee\n",
    "\n",
    "#### How to use\n",
    "See option [14]. "
   ]
  },
  {
   "cell_type": "code",
   "execution_count": 1,
   "metadata": {
    "scrolled": true
   },
   "outputs": [],
   "source": [
    "from solver_functions import *\n",
    "init_printing(use_latex=True) # Set this to False if all you care about in life is speed.\n",
    "plt.rcParams[\"figure.figsize\"]=10, 10 # The size of plots"
   ]
  },
  {
   "cell_type": "code",
   "execution_count": 3,
   "metadata": {
    "scrolled": false
   },
   "outputs": [
    {
     "name": "stdout",
     "output_type": "stream",
     "text": [
      "\n",
      "___  ___      _        _        _____       _                \n",
      "|  \\/  |     | |      (_)      /  ___|     | |               \n",
      "| .  . | __ _| |_ _ __ ___  __ \\ `--.  ___ | |_   _____ _ __ \n",
      "| |\\/| |/ _` | __| '__| \\ \\/ /  `--. \\/ _ \\| \\ \\ / / _ \\ '__|\n",
      "| |  | | (_| | |_| |  | |>  <  /\\__/ / (_) | |\\ V /  __/ |   \n",
      "\\_|  |_/\\__,_|\\__|_|  |_/_/\\_\\ \\____/ \\___/|_| \\_/ \\___|_|   \n",
      "                                                             \n",
      "Author: Isaac Lee\n",
      "\n",
      "\n",
      "\n",
      "Available Operations:\n",
      "[0].  Quit\n",
      "[1].  Multiply Matrices\n",
      "[2].  Inverse\n",
      "[3].  Transpose\n",
      "[4].  Determinant\n",
      "[5].  Row reduce to echelon form\n",
      "[6].  Basis for left and right nullspace\n",
      "[7].  Rank and Basis for Row space and Column space\n",
      "[8].  Eigenvalues and Eigenvectors\n",
      "[9].  Diagonalize/Jordan Normal\n",
      "[10]. Delete rows/cols\n",
      "[11]. Applied Maths Mode\n",
      "[12]. Calculus Mode: Differential Equations\n",
      "[13]. Save/Load matrices from file\n",
      "[14]. How To guide\n",
      "\n",
      "Mode No.: 0\n",
      "\n",
      "Bye!\n",
      "\n"
     ]
    }
   ],
   "source": [
    "main(using_jupyter=True)"
   ]
  },
  {
   "cell_type": "code",
   "execution_count": null,
   "metadata": {},
   "outputs": [],
   "source": [
    "Image(filename=\"Images/chad.png\")"
   ]
  }
 ],
 "metadata": {
  "kernelspec": {
   "display_name": "Python 3",
   "language": "python",
   "name": "python3"
  },
  "language_info": {
   "codemirror_mode": {
    "name": "ipython",
    "version": 3
   },
   "file_extension": ".py",
   "mimetype": "text/x-python",
   "name": "python",
   "nbconvert_exporter": "python",
   "pygments_lexer": "ipython3",
   "version": "3.9.1"
  }
 },
 "nbformat": 4,
 "nbformat_minor": 4
}
