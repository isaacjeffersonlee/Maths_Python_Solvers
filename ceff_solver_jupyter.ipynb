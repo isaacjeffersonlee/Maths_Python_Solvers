{
 "cells": [
  {
   "cell_type": "markdown",
   "metadata": {},
   "source": [
    "# Ceff Solver Jupyter Version\n",
    "### Author: Isaac Lee\n",
    "### Github: https://github.com/isaacjeffersonlee/Maths_Python_Solvers\n",
    "\n",
    "## Summary\n",
    "This little solver will take the *incidence* matrix of a directed, \n",
    "grounded graph and either calculate the laplacian, unknown Ceff \n",
    "and node potentials or the rank of the incidence matrix and give a basis\n",
    "for the left and right nullspace.\n",
    "\n",
    "## Assumptions\n",
    "\n",
    "This solver relies on the following:\n",
    "- Unit conductance in all edges. \n",
    "- The + Node is labelled as node 1 and has potential 1.\n",
    "- The - Node is labelled as node 2 and has potential 0.\n",
    "Only one - node and + node exist.\n",
    "\n",
    "Note: If multiple + and - nodes exist, they can be combined\n",
    "into a single + and - node since they have the same potential.\n",
    "\n",
    "### Disclaimer\n",
    "This code is messy as shit and I'm by no means a JMC boi so please don't judge."
   ]
  },
  {
   "cell_type": "code",
   "execution_count": 59,
   "metadata": {},
   "outputs": [],
   "source": [
    "from sympy import * # This is lazy lmao\n",
    "# Noice printing of matrices\n",
    "init_printing(use_latex=True)"
   ]
  },
  {
   "cell_type": "code",
   "execution_count": 60,
   "metadata": {},
   "outputs": [],
   "source": [
    "# Defining our Sympy symbols\n",
    "Ceff, x3, x4, x5, x6, x7, x8, x9 = symbols('Ceff x3 x4 x5 x6 x7 x8 x9')\n",
    "node_potentials = [1, 0, x3, x4, x5, x6, x7, x8, x9]"
   ]
  },
  {
   "cell_type": "code",
   "execution_count": 61,
   "metadata": {},
   "outputs": [],
   "source": [
    "saved_matrices = []"
   ]
  },
  {
   "cell_type": "code",
   "execution_count": 62,
   "metadata": {},
   "outputs": [],
   "source": [
    "def save_matrix(matrix_to_save):\n",
    "    \"\"\" Save a matrix. \"\"\"\n",
    "    global saved_matrices\n",
    "    if matrix_to_save not in saved_matrices:\n",
    "        saved_matrices.append(matrix_to_save)"
   ]
  },
  {
   "cell_type": "code",
   "execution_count": 63,
   "metadata": {},
   "outputs": [],
   "source": [
    "def use_saved_matrices():\n",
    "    \"\"\" Ask whether to use a saved matrix. \"\"\"\n",
    "    use_saved = input(\"Use a saved matrix? y/n \")\n",
    "    if use_saved == 'y':\n",
    "        return True\n",
    "    else:\n",
    "        return False"
   ]
  },
  {
   "cell_type": "code",
   "execution_count": 64,
   "metadata": {},
   "outputs": [],
   "source": [
    "def print_saved_matrices():\n",
    "    \"\"\" Print out/check for available saved matrices along with their indexes.\"\"\"\n",
    "    global saved_matrices\n",
    "    if not saved_matrices:\n",
    "        print(\"No saved matrices!\")\n",
    "        return False\n",
    "    else:\n",
    "        for i in range(len(saved_matrices)):\n",
    "            print(\"\")\n",
    "            print(f\"Saved Matrix No. {i}\")\n",
    "            pprint(saved_matrices[i])\n",
    "            print(\"\")\n",
    "        return True"
   ]
  },
  {
   "cell_type": "code",
   "execution_count": 65,
   "metadata": {},
   "outputs": [],
   "source": [
    "def get_incidence_matrix():\n",
    "    \"\"\" \n",
    "    Either use a saved incidence matrix or prompt for a new one.\n",
    "    Returns the incidence matrix A.\n",
    "    Returns None if an invalid saved matrix index is given.\n",
    "    \"\"\"\n",
    "    global saved_matrices # this is lazy and bad but cba\n",
    "    if use_saved_matrices() and print_saved_matrices():\n",
    "        chosen_matrix_number = int(input(\"Use saved matrix No.: \"))\n",
    "        try:\n",
    "            A = saved_matrices[chosen_matrix_number]\n",
    "            return A\n",
    "        except IndexError:\n",
    "            print(\"\")\n",
    "            print(f\"Error: {chosen_matrix_number} is not a valid saved matrix index\")\n",
    "            print(\"\")\n",
    "            # Returns None\n",
    "    else:\n",
    "        # Getting Matrix Input\n",
    "        print(\"New Incidence Matrix A:\")\n",
    "        R = int(input(\"No. Rows: \")) \n",
    "        C = int(input(\"No. Cols: \"))\n",
    "\n",
    "        # Initialize our matrix\n",
    "        A = Matrix([])\n",
    "        for i in range(R):\n",
    "            ith_row = []\n",
    "            for j in range(C):\n",
    "                ith_row.append(int(input(f\"({i+1}, {j+1}) entry:\")))\n",
    "            A = A.row_insert(i, Matrix([ith_row]))\n",
    "\n",
    "        save_matrix(A)\n",
    "        return A\n",
    "\n",
    "def get_incidence_matrix():\n",
    "    \"\"\" \n",
    "    Either use a saved incidence matrix or prompt for a new one.\n",
    "    Returns the incidence matrix A.\n",
    "    Returns None if an invalid saved matrix index is given.\n",
    "    \"\"\"\n",
    "    global saved_matrices # this is lazy and bad but cba\n",
    "    if use_saved_matrices() and print_saved_matrices():\n",
    "        chosen_matrix_number = int(input(\"Use saved matrix No.: \"))\n",
    "        try:\n",
    "            A = saved_matrices[chosen_matrix_number]\n",
    "            return A\n",
    "        except IndexError:\n",
    "            print(\"\")\n",
    "            print(f\"Error: {chosen_matrix_number} is not a valid saved matrix index\")\n",
    "            print(\"\")\n",
    "            # Returns None\n",
    "    else:\n",
    "        # Getting Matrix Input\n",
    "        print(\"New Incidence Matrix A:\")\n",
    "        R = int(input(\"No. Rows: \")) \n",
    "        C = int(input(\"No. Cols: \"))\n",
    "\n",
    "        # Initialize our matrix\n",
    "        A = Matrix([])\n",
    "        for i in range(R):\n",
    "            ith_row = []\n",
    "            for j in range(C):\n",
    "                ith_row.append(int(input(f\"({i+1}, {j+1}) entry:\")))\n",
    "            A = A.row_insert(i, Matrix([ith_row]))\n",
    "\n",
    "        save_matrix(A)\n",
    "        return A"
   ]
  },
  {
   "cell_type": "code",
   "execution_count": 66,
   "metadata": {},
   "outputs": [
    {
     "name": "stdout",
     "output_type": "stream",
     "text": [
      "What would you like to solve?\n",
      "[1] Ceff and unknown node potentials.\n",
      "[2] Calculate rank(A) and left and right nullspace basis.\n",
      "\n",
      "Mode: 1\n",
      "Use a saved matrix? y/n y\n",
      "No saved matrices!\n",
      "New Incidence Matrix A:\n",
      "No. Rows: 2\n",
      "No. Cols: 2\n",
      "(1, 1) entry:-1\n",
      "(1, 2) entry:1\n",
      "(2, 1) entry:1\n",
      "(2, 2) entry:-1\n",
      "\n",
      "Input Incidence Matrix: \n"
     ]
    },
    {
     "data": {
      "image/png": "[encoded data removed]",
      "text/latex": [
       "$\\displaystyle \\left[\\begin{matrix}-1 & 1\\\\1 & -1\\end{matrix}\\right]$"
      ],
      "text/plain": [
       "⎡-1  1 ⎤\n",
       "⎢      ⎥\n",
       "⎣1   -1⎦"
      ]
     },
     "metadata": {},
     "output_type": "display_data"
    },
    {
     "name": "stdout",
     "output_type": "stream",
     "text": [
      "\n",
      "Laplacian: \n"
     ]
    },
    {
     "data": {
      "image/png": "[encoded data removed]",
      "text/latex": [
       "$\\displaystyle \\left[\\begin{matrix}2 & -2\\\\-2 & 2\\end{matrix}\\right]$"
      ],
      "text/plain": [
       "⎡2   -2⎤\n",
       "⎢      ⎥\n",
       "⎣-2  2 ⎦"
      ]
     },
     "metadata": {},
     "output_type": "display_data"
    },
    {
     "name": "stdout",
     "output_type": "stream",
     "text": [
      "\n",
      "Ceff = 2\n",
      "Quit: y/n y\n",
      "Bye!\n"
     ]
    }
   ],
   "source": [
    "# Input loop\n",
    "while True: \n",
    "\n",
    "#>>>>>>>>>>>>>>>>>>>>>>>>>>>>>>>>>>>>>>>>>>>>>>>>>>>>>>>>>>>>>>>>>>>>>>>>>>>>>>>>>>>>>>>>>>>>>>>>>>>>>>>>>>>>>>>>>>\n",
    "#---------------------------------------------- MODE SELECTOR -----------------------------------------------------\n",
    "#>>>>>>>>>>>>>>>>>>>>>>>>>>>>>>>>>>>>>>>>>>>>>>>>>>>>>>>>>>>>>>>>>>>>>>>>>>>>>>>>>>>>>>>>>>>>>>>>>>>>>>>>>>>>>>>>>>\n",
    "    print(\"What would you like to solve?\")\n",
    "    print(\"[1] Ceff and unknown node potentials.\")\n",
    "    print(\"[2] Calculate rank(A) and left and right nullspace basis.\")\n",
    "    print(\"\")\n",
    "    try:\n",
    "        mode_choice = int(input(\"Mode: \"))\n",
    "        if mode_choice != 1 and mode_choice != 2:\n",
    "            print(\"Please input 1 or 2!\")\n",
    "\n",
    "#>>>>>>>>>>>>>>>>>>>>>>>>>>>>>>>>>>>>>>>>>>>>>>>>>>>>>>>>>>>>>>>>>>>>>>>>>>>>>>>>>>>>>>>>>>>>>>>>>>>>>>>>>>>>>>>>>>\n",
    "#---------------------------------------------- CEFF SOLVER -------------------------------------------------------\n",
    "#>>>>>>>>>>>>>>>>>>>>>>>>>>>>>>>>>>>>>>>>>>>>>>>>>>>>>>>>>>>>>>>>>>>>>>>>>>>>>>>>>>>>>>>>>>>>>>>>>>>>>>>>>>>>>>>>>>\n",
    "        elif mode_choice == 1:\n",
    "\n",
    "            A = get_incidence_matrix()\n",
    "            if not A: # If A is not a valid incidence matrix\n",
    "                pass\n",
    "\n",
    "            else: # If A is a a valid incidence matrix\n",
    "                print(\"\")\n",
    "                print(\"Input Incidence Matrix: \")\n",
    "                display(A) # Prints nicely formatted with LaTeX\n",
    "                # Laplacian\n",
    "                K = (A.T) * A\n",
    "                print(\"\")\n",
    "                print(\"Laplacian: \")\n",
    "                display(K)\n",
    "                print(\"\") # Give some space\n",
    "                # print(K)\n",
    "                # K grounded\n",
    "                Kg = K\n",
    "                Kg.col_del(1)\n",
    "                Kg.row_del(1)\n",
    "                # Number of rows of K grounded\n",
    "                n_row = Kg.shape[0] \n",
    "                # Number of cols of K grounded\n",
    "                n_col = Kg.shape[1]\n",
    "                # Initialize our vector of node potentials\n",
    "                x = Matrix([[1]])\n",
    "                for i in range(2, n_col+1):\n",
    "                    x = x.row_insert(i-1, Matrix([[node_potentials[i]]]))\n",
    "\n",
    "                # Initialize our vector of flux divergence\n",
    "                # This step is not really necessary\n",
    "                f = Matrix([[Ceff]])\n",
    "                for i in range(1, n_col):\n",
    "                    f = f.row_insert(i, Matrix([[0]]))\n",
    "\n",
    "                # Solutions with respect to ceff\n",
    "                ceff_solutions = ((Kg**-1) * f) - x\n",
    "                system = [ceff_solutions.row(i)[:][0] for i in range(0, n_row)]\n",
    "                variables = [node_potentials[i] for i in range(2, n_col+1)]\n",
    "                variables.append(Ceff)\n",
    "                final_solutions = nonlinsolve(system, variables)\n",
    "                for i in range(len(variables)):\n",
    "                    print(\"{} = {}\".format(variables[i], list(final_solutions)[0][i]))\n",
    "\n",
    "                quit_input = input(\"Quit: y/n \")\n",
    "                if quit_input == 'y':\n",
    "                    print(\"Bye!\")\n",
    "                    break\n",
    "\n",
    "                elif quit_input == 'n':\n",
    "                    pass\n",
    "\n",
    "                else:\n",
    "                    print(\"\")\n",
    "                    print(\"I'll take that as a yes...\")\n",
    "                    print(\"\")\n",
    "#>>>>>>>>>>>>>>>>>>>>>>>>>>>>>>>>>>>>>>>>>>>>>>>>>>>>>>>>>>>>>>>>>>>>>>>>>>>>>>>>>>>>>>>>>>>>>>>>>>>>>>>>>>>>>>>>>>\n",
    "#---------------------------------------------- NULLSPACE SOLVER --------------------------------------------------\n",
    "#>>>>>>>>>>>>>>>>>>>>>>>>>>>>>>>>>>>>>>>>>>>>>>>>>>>>>>>>>>>>>>>>>>>>>>>>>>>>>>>>>>>>>>>>>>>>>>>>>>>>>>>>>>>>>>>>>>\n",
    "        elif mode_choice == 2:\n",
    "\n",
    "            A = get_incidence_matrix()\n",
    "            if not A: # If A is not a valid incidence matrix\n",
    "                pass\n",
    "\n",
    "            else: # If A is a a valid incidence matrix\n",
    "                # Getting Matrix Input\n",
    "                print(\"\")\n",
    "                print(\"Input Incidence Matrix: \")\n",
    "                display(A)\n",
    "                node_num = A.shape[0]  # number of nodes\n",
    "                print(\"Basis for Right Nullspace: \")\n",
    "                display(A.nullspace())\n",
    "                A_transpose = A.T\n",
    "                print(\"Basis for Left Nullspace: \")\n",
    "                display(A_transpose.nullspace())\n",
    "\n",
    "                # Calculate rank using Rank nullity theorem\n",
    "                print(\"rank(A) = {}\".format(node_num - len(A.nullspace()))) \n",
    "\n",
    "                quit_input = input(\"Quit: y/n \")\n",
    "                if quit_input == 'y':\n",
    "                    print(\"Bye!\")\n",
    "                    break\n",
    "\n",
    "                elif quit_input == 'n':\n",
    "                    pass\n",
    "\n",
    "                else:\n",
    "                    print(\"\")\n",
    "                    print(\"I'll take that as a yes...\")\n",
    "                    print(\"\")\n",
    "\n",
    "        else:\n",
    "            pass\n",
    "\n",
    "    # If the input is not valid\n",
    "    except ValueError:\n",
    "        print(\"Not a valid input! Restarting...\")\n",
    "        print(\"\")\n"
   ]
  },
  {
   "cell_type": "markdown",
   "metadata": {},
   "source": [
    "*Note:* You must quit out of the above cell to run any other cells after"
   ]
  }
 ],
 "metadata": {
  "kernelspec": {
   "display_name": "Python 3",
   "language": "python",
   "name": "python3"
  },
  "language_info": {
   "codemirror_mode": {
    "name": "ipython",
    "version": 3
   },
   "file_extension": ".py",
   "mimetype": "text/x-python",
   "name": "python",
   "nbconvert_exporter": "python",
   "pygments_lexer": "ipython3",
   "version": "3.9.1"
  }
 },
 "nbformat": 4,
 "nbformat_minor": 4
}
